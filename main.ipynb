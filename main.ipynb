{
 "cells": [
  {
   "cell_type": "code",
   "execution_count": 1,
   "metadata": {},
   "outputs": [],
   "source": [
    "import os\n",
    "import cv2\n",
    "from os import listdir\n",
    "from cv_functions import get_image_dimensions, get_d32, resize_save, split_image_in_4"
   ]
  },
  {
   "cell_type": "code",
   "execution_count": null,
   "metadata": {},
   "outputs": [],
   "source": [
    "img_path = \"output/asphalt_tiles_1600x1200/IMG_9083_1600x1200.jpg\"\n",
    "h, w = get_image_dimensions(image_path=img_path)\n",
    "# get_d32(h, w, new_width=1600)\n",
    "print(h, w)"
   ]
  },
  {
   "cell_type": "code",
   "execution_count": null,
   "metadata": {},
   "outputs": [],
   "source": [
    "# for every image in input folder, resize and save in output folder.\n",
    "folder_dir = \"datasets_sorted/asphalt-tiles\"\n",
    "output_dir = \"output/asphalt_tiles_1280x960\"\n",
    "\n",
    "print(\"Resizing...\")\n",
    "for image in os.listdir(folder_dir):\n",
    "    resize_save(folder_dir + f\"/{image}\", output_dir, 1280, 960)\n",
    "print(\"Complete.\")"
   ]
  },
  {
   "cell_type": "code",
   "execution_count": null,
   "metadata": {},
   "outputs": [],
   "source": [
    "# for every image in input folder, divide into 4 and save in output folder.\n",
    "folder_dir = \"output/asphalt_tiles_1280x960\"\n",
    "output_dir = \"output/split\"\n",
    "\n",
    "# image_path = \"output/asphalt_tiles_1280x960/IMG_9083_1280x960.jpg\"\n",
    "# split_image_in_4(image_path=image_path, output_folder=output_dir)\n",
    "\n",
    "print(\"Splitting...\")\n",
    "for image in os.listdir(folder_dir):\n",
    "    split_image_in_4(image_path=folder_dir + f\"/{image}\", output_folder=output_dir)\n",
    "print(\"Complete.\")"
   ]
  },
  {
   "cell_type": "code",
   "execution_count": null,
   "metadata": {},
   "outputs": [],
   "source": []
  }
 ],
 "metadata": {
  "kernelspec": {
   "display_name": "Python 3",
   "language": "python",
   "name": "python3"
  },
  "language_info": {
   "codemirror_mode": {
    "name": "ipython",
    "version": 3
   },
   "file_extension": ".py",
   "mimetype": "text/x-python",
   "name": "python",
   "nbconvert_exporter": "python",
   "pygments_lexer": "ipython3",
   "version": "3.11.4"
  },
  "orig_nbformat": 4
 },
 "nbformat": 4,
 "nbformat_minor": 2
}
