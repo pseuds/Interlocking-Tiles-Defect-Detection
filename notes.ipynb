{
 "cells": [
  {
   "cell_type": "markdown",
   "metadata": {},
   "source": [
    "From CVAT, export COCO and convert the `.json` file to yolo (`.txt` files)."
   ]
  },
  {
   "cell_type": "code",
   "execution_count": 3,
   "metadata": {},
   "outputs": [],
   "source": [
    "from general_json2yolo import convert_coco_json"
   ]
  },
  {
   "cell_type": "code",
   "execution_count": null,
   "metadata": {},
   "outputs": [],
   "source": [
    "convert_coco_json(json_dir=\"attempt_1_coco/annotations/instances_default.json\")"
   ]
  },
  {
   "cell_type": "markdown",
   "metadata": {},
   "source": [
    "### ATTEMPT 1"
   ]
  },
  {
   "cell_type": "markdown",
   "metadata": {},
   "source": [
    "Train YOLOv5s on COCO128 for 3 epochs<br>\n",
    "`python3.11 train.py --img 1632 --batch -1 --epochs 3 --cache ram  --data coco_mine.yaml --weights yolov5s.pt --workers 4` <br>\n",
    "`python3.11 detect.py --source ../datasets/coco128-seg_mine/images/IMG_9311_scaled.jpg --weights runs/train/exp6/weights/best.pt --img 1632` <br> <br>\n",
    "worked with images of size 1613x1210. YOLO auto-scaled it to 1632 as it needs the image size to be multiple of 32."
   ]
  },
  {
   "cell_type": "markdown",
   "metadata": {},
   "source": [
    "Experiment results here `C:\\D drive\\2023 intern\\yolov5\\runs\\train\\exp6`\n",
    "- Empty predictions \n",
    "\n",
    "Solutions to try: <br><a href=\"https://github.com/ultralytics/yolov5/issues/7196\">source</a>\n",
    "- **Images per class** -- ≥ 1500 images per class recommended\n",
    "- **Images per class** -- ≥ 10 000 instances per class recommended\n",
    "- **Background images** -- 0-10% of it among the dataset. To reduce false-positives.\n",
    "- **Start with 300 epochs** -- reduce epochs if overfits.\n",
    "- **Image resolutions** -- COCO trains at 640. if high amount of small objects can use 1280.\n",
    "\n",
    "<br>\n",
    "misc: <br>\n",
    "-- Break down images into smaller size."
   ]
  },
  {
   "cell_type": "markdown",
   "metadata": {},
   "source": [
    "### ATTEMPT 2"
   ]
  },
  {
   "cell_type": "markdown",
   "metadata": {},
   "source": [
    "Break original image into 4. "
   ]
  }
 ],
 "metadata": {
  "kernelspec": {
   "display_name": "Python 3",
   "language": "python",
   "name": "python3"
  },
  "language_info": {
   "codemirror_mode": {
    "name": "ipython",
    "version": 3
   },
   "file_extension": ".py",
   "mimetype": "text/x-python",
   "name": "python",
   "nbconvert_exporter": "python",
   "pygments_lexer": "ipython3",
   "version": "3.11.4"
  },
  "orig_nbformat": 4
 },
 "nbformat": 4,
 "nbformat_minor": 2
}
