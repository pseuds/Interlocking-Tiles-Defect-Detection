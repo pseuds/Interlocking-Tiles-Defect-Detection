{
 "cells": [
  {
   "cell_type": "code",
   "execution_count": null,
   "metadata": {},
   "outputs": [],
   "source": [
    "import os\n",
    "import cv2\n",
    "from os import listdir\n",
    "from cv_functions import get_image_dimensions, get_d32, resize_save, split_image_in_4"
   ]
  },
  {
   "cell_type": "code",
   "execution_count": null,
   "metadata": {},
   "outputs": [],
   "source": [
    "HOME = os.getcwd()\n",
    "print(HOME)"
   ]
  },
  {
   "cell_type": "code",
   "execution_count": null,
   "metadata": {},
   "outputs": [],
   "source": [
    "img_path = \"output/asphalt_tiles_1600x1200/IMG_9083_1600x1200.jpg\"\n",
    "h, w = get_image_dimensions(image_path=img_path)\n",
    "# get_d32(h, w, new_width=1600)\n",
    "print(h, w)\n",
    "\n",
    "image = cv2.imread(img_path)\n",
    "cv2.imshow(\"hello\", image)\n",
    "cv2.waitKey(0)"
   ]
  },
  {
   "cell_type": "code",
   "execution_count": null,
   "metadata": {},
   "outputs": [],
   "source": [
    "import os\n",
    "from cv_functions import get_image_dimensions, get_d32, resize_save, split_image_in_4\n",
    "\n",
    "# for every image in input folder, resize and save in output folder.\n",
    "folder_dir = \"datasets_sorted/TiongBahru\"\n",
    "output_dir = \"output/tiongbahru_1280_OG\"\n",
    "\n",
    "print(\"Resizing...\")\n",
    "for image in os.listdir(folder_dir):\n",
    "    img_path = folder_dir + f\"/{image}\"\n",
    "    h, w = get_image_dimensions(img_path)\n",
    "    if w > h:\n",
    "        resize_save(img_path, output_dir, 1280, 960)\n",
    "        # resize_save(img_path, output_dir, 1600, 1200)\n",
    "    else:\n",
    "        resize_save(img_path, output_dir, 960, 1280)\n",
    "        # resize_save(img_path, output_dir, 1200, 1600)\n",
    "print(\"Complete.\")"
   ]
  },
  {
   "cell_type": "code",
   "execution_count": null,
   "metadata": {},
   "outputs": [],
   "source": [
    "# for every image in input folder, divide into 4 and save in output folder.\n",
    "folder_dir = \"output/asphalt_tiles_1280x960\"\n",
    "output_dir = \"output/split\"\n",
    "\n",
    "# image_path = \"output/asphalt_tiles_1280x960/IMG_9083_1280x960.jpg\"\n",
    "# split_image_in_4(image_path=image_path, output_folder=output_dir)\n",
    "\n",
    "print(\"Splitting...\")\n",
    "for image in os.listdir(folder_dir):\n",
    "    split_image_in_4(image_path=folder_dir + f\"/{image}\", output_folder=output_dir)\n",
    "print(\"Complete.\")"
   ]
  },
  {
   "cell_type": "markdown",
   "metadata": {},
   "source": [
    "### Increase contrast of image\n",
    "<a href='https://stackoverflow.com/questions/39308030/how-do-i-increase-the-contrast-of-an-image-in-python-opencv'>source</a>\n",
    "<br>\n",
    "<a href='https://www.xrite.com/blog/lab-color-space'>read LAB color values</a>"
   ]
  },
  {
   "cell_type": "code",
   "execution_count": null,
   "metadata": {},
   "outputs": [],
   "source": [
    "import cv2\n",
    "import numpy as np\n",
    "\n",
    "image_path = 'output/everton_800/IMG_8391_600x800.JPG'\n",
    "\n",
    "img = cv2.imread(image_path)\n",
    "# converting to LAB color space\n",
    "lab= cv2.cvtColor(img, cv2.COLOR_BGR2LAB)\n",
    "l_channel, a, b = cv2.split(lab)\n",
    "\n",
    "# Applying CLAHE to L-channel\n",
    "# feel free to try different values for the limit and grid size:\n",
    "clahe = cv2.createCLAHE(clipLimit=42, tileGridSize=(8,8))\n",
    "cl = clahe.apply(l_channel)\n",
    "\n",
    "# merge the CLAHE enhanced L-channel with the a and b channel\n",
    "limg = cv2.merge((cl,a,b))\n",
    "\n",
    "# Converting image from LAB Color model to BGR color spcae\n",
    "enhanced_img = cv2.cvtColor(limg, cv2.COLOR_LAB2BGR)\n",
    "\n",
    "new_img = cv2.resize(img, (800, 600))\n",
    "new_enhanced_img = cv2.resize(enhanced_img, (800, 600))\n",
    "\n",
    "# Stacking the original image with the enhanced image\n",
    "result = np.hstack((new_img, new_enhanced_img))\n",
    "cv2.imshow('Result', result)\n",
    "cv2.waitKey(0)"
   ]
  },
  {
   "cell_type": "markdown",
   "metadata": {},
   "source": [
    "#### Increase contrast of one image"
   ]
  },
  {
   "cell_type": "code",
   "execution_count": null,
   "metadata": {},
   "outputs": [],
   "source": [
    "import os\n",
    "import datetime\n",
    "from cv_functions import incr_contrast\n",
    "\n",
    "now = datetime.datetime.now()\n",
    "\n",
    "# for every image in input folder, increase contrast and save in output folder.\n",
    "img_path = \"datasets_sorted/PunggolMeridian_MRT/IMG_0019.JPG\"\n",
    "output_dir = \"output/test\"\n",
    "\n",
    "print(\"Increasing contrast...\")\n",
    "incr_contrast(image_path=img_path, output_folder=output_dir, clip_limit=5)\n",
    "    \n",
    "print(\"Complete.\")"
   ]
  },
  {
   "cell_type": "markdown",
   "metadata": {},
   "source": [
    "#### Increase contrast of all images in folder"
   ]
  },
  {
   "cell_type": "code",
   "execution_count": 1,
   "metadata": {},
   "outputs": [
    {
     "name": "stdout",
     "output_type": "stream",
     "text": [
      "Increasing contrast...\n",
      "Complete.\n"
     ]
    }
   ],
   "source": [
    "import os\n",
    "import datetime\n",
    "from cv_functions import incr_contrast\n",
    "\n",
    "now = datetime.datetime.now()\n",
    "\n",
    "# for every image in input folder, increase contrast and save in output folder.\n",
    "folder_dir = \"output/punggol_blk160_1280\"\n",
    "output_dir = \"datasets_processed/punggol_blk160_1280\"\n",
    "\n",
    "print(\"Increasing contrast...\")\n",
    "for image in os.listdir(folder_dir):\n",
    "    incr_contrast(image_path=folder_dir + f\"/{image}\", output_folder=output_dir, clip_limit=5)\n",
    "    \n",
    "print(\"Complete.\")"
   ]
  },
  {
   "cell_type": "code",
   "execution_count": null,
   "metadata": {},
   "outputs": [],
   "source": [
    "from JSON2YOLO.general_json2yolo import convert_coco_json\n",
    "\n",
    "convert_coco_json(json_dir=\"../tryout/maskcheck/annotations/instances_default.json\")"
   ]
  },
  {
   "cell_type": "markdown",
   "metadata": {},
   "source": [
    "### Randomly distribute files into train, test, val"
   ]
  },
  {
   "cell_type": "markdown",
   "metadata": {},
   "source": [
    "#### Distribute images"
   ]
  },
  {
   "cell_type": "code",
   "execution_count": null,
   "metadata": {},
   "outputs": [],
   "source": [
    "import os\n",
    "import shutil\n",
    "import random\n",
    "from pathlib import Path\n",
    "\n",
    "# src_folder = \"output/punggol_blk160_800\"\n",
    "# dst_folder = \"transfer_trial\"\n",
    "src_folder = \"datasets_processed/punggol_blk160\"\n",
    "dst_folder = \"datasets/coco_attempt_2\"\n",
    "\n",
    "train_percent = 0.8\n",
    "test_percent = 0.1\n",
    "val_percent = 0.1\n",
    "random.seed(420)\n",
    "\n",
    "print(\"Sorting...\")\n",
    "for dirpath, dirnames, filenames in os.walk(src_folder):\n",
    "    print(dirpath, dirnames, filenames)\n",
    "\n",
    "    train_img_path = Path(dst_folder + f\"/train/images\", exist_ok=True)\n",
    "    train_lbl_path = Path(dst_folder + f\"/train/labels\", exist_ok=True)\n",
    "    test_img_path = Path(dst_folder + f\"/test/images\", exist_ok=True)\n",
    "    test_lbl_path = Path(dst_folder + f\"/test/labels\", exist_ok=True)\n",
    "    val_img_path = Path(dst_folder + f\"/val/images\", exist_ok=True)\n",
    "    val_lbl_path = Path(dst_folder + f\"/val/labels\", exist_ok=True)\n",
    "\n",
    "    n = len(filenames)\n",
    "    index_list = list(range(0, n))\n",
    "    random.shuffle(index_list)\n",
    "    train_i_ls = index_list[:int(train_percent*n)]\n",
    "    test_i_ls = index_list[int(train_percent*n):int((train_percent+test_percent)*n)]\n",
    "    val_i_ls = index_list[int((train_percent+test_percent)*n):]\n",
    "\n",
    "    for i, filename in enumerate(filenames):\n",
    "        src_path = Path(dirpath, filename)\n",
    "        if i in train_i_ls:\n",
    "            img_path = train_img_path\n",
    "            lbl_path = train_lbl_path\n",
    "        elif i in test_i_ls:\n",
    "            img_path = test_img_path\n",
    "            lbl_path = test_lbl_path\n",
    "        elif i in val_i_ls:\n",
    "            img_path = val_img_path\n",
    "            lbl_path = val_lbl_path\n",
    "        else:\n",
    "            print(\"????????????\")\n",
    "\n",
    "        print(f'{i}/{n} - Copying \"{src_path}\" to \"{img_path}\".')\n",
    "        shutil.copy2(src_path, img_path)\n",
    "    \n",
    "print(\"Complete.\")"
   ]
  },
  {
   "cell_type": "markdown",
   "metadata": {},
   "source": [
    "#### Distribute labels corresponding to images"
   ]
  },
  {
   "cell_type": "code",
   "execution_count": null,
   "metadata": {},
   "outputs": [],
   "source": [
    "import os\n",
    "import shutil\n",
    "import random\n",
    "from pathlib import Path\n",
    "\n",
    "src_folder = \"datasets/coco_attempt_2\"\n",
    "label_src = \"datasets/coco_attempt_2/annotations/YOLO\"\n",
    "\n",
    "train_img_path = src_folder + \"/train/images\"\n",
    "test_img_path = src_folder + \"/test/images\"\n",
    "val_img_path = src_folder + \"/val/images\"\n",
    "\n",
    "print(\"Sorting train labels...\")\n",
    "for dirpath, dirnames, filenames in os.walk(train_img_path):\n",
    "    print(dirpath, dirnames, filenames)\n",
    "\n",
    "    # destination paths\n",
    "    train_lbl_path = Path(src_folder + f\"/train/labels\", exist_ok=True)\n",
    "\n",
    "    n = len(filenames)\n",
    "\n",
    "    for i, filename in enumerate(filenames):\n",
    "        src_path = Path(dirpath, filename)\n",
    "        label_name = filename[:-4] + \".txt\"\n",
    "        label_path = Path(label_src + f\"/{label_name}\")\n",
    "        print(label_path)\n",
    "\n",
    "        if os.path.exists(label_path):\n",
    "            print(f'{i}/{n} - Copying \"{label_path}\" to \"{train_lbl_path}\".')\n",
    "            shutil.copy2(label_path, train_lbl_path)\n",
    "\n",
    "print(\"Sorting test labels...\")\n",
    "for dirpath, dirnames, filenames in os.walk(test_img_path):\n",
    "    print(dirpath, dirnames, filenames)\n",
    "\n",
    "    # destination path\n",
    "    test_lbl_path = Path(src_folder + f\"/test/labels\", exist_ok=True)\n",
    "\n",
    "    n = len(filenames)\n",
    "\n",
    "    for i, filename in enumerate(filenames):\n",
    "        src_path = Path(dirpath, filename)\n",
    "        label_name = filename[:-4] + \".txt\"\n",
    "        label_path = Path(label_src + f\"/{label_name}\")\n",
    "        print(label_path)\n",
    "\n",
    "        if os.path.exists(label_path):\n",
    "            print(f'{i}/{n} - Copying \"{label_path}\" to \"{test_lbl_path}\".')\n",
    "            shutil.copy2(label_path, test_lbl_path)\n",
    "\n",
    "print(\"Sorting val labels...\")\n",
    "for dirpath, dirnames, filenames in os.walk(val_img_path):\n",
    "    print(dirpath, dirnames, filenames)\n",
    "\n",
    "    # destination path\n",
    "    val_lbl_path = Path(src_folder + f\"/val/labels\", exist_ok=True)\n",
    "\n",
    "    n = len(filenames)\n",
    "\n",
    "    for i, filename in enumerate(filenames):\n",
    "        src_path = Path(dirpath, filename)\n",
    "        label_name = filename[:-4] + \".txt\"\n",
    "        label_path = Path(label_src + f\"/{label_name}\")\n",
    "        print(label_path)\n",
    "\n",
    "        if os.path.exists(label_path):\n",
    "            print(f'{i}/{n} - Copying \"{label_path}\" to \"{val_lbl_path}\".')\n",
    "            shutil.copy2(label_path, val_lbl_path)\n",
    "    \n",
    "print(\"Complete.\")"
   ]
  },
  {
   "cell_type": "markdown",
   "metadata": {},
   "source": [
    "### Video processing"
   ]
  },
  {
   "cell_type": "markdown",
   "metadata": {},
   "source": [
    "#### Extract frames from video"
   ]
  },
  {
   "cell_type": "code",
   "execution_count": 1,
   "metadata": {},
   "outputs": [],
   "source": [
    "import cv2\n",
    "from cv_functions import preprocess_frames\n",
    "\n",
    "preprocess_frames(video_path=\"datasets_project/Punggol_EdgeField BLK111/GH012496.MP4\", output_folder=\"output/videos/GH012496\", frame_count=300)"
   ]
  },
  {
   "cell_type": "markdown",
   "metadata": {},
   "source": [
    "#### Make images into video"
   ]
  },
  {
   "cell_type": "code",
   "execution_count": 1,
   "metadata": {},
   "outputs": [],
   "source": [
    "import cv2\n",
    "import os\n",
    "\n",
    "source_folder = \"output/test_track\"\n",
    "\n",
    "video = cv2.VideoWriter(\"output/videos/GH012496_tracked2.mp4\", 0, 30, (800, 800)) \n",
    "\n",
    "for image in os.listdir(source_folder):\n",
    "    print(image)\n",
    "    video.write(cv2.imread(source_folder+f\"/{image}\"))\n",
    "video.release()"
   ]
  }
 ],
 "metadata": {
  "kernelspec": {
   "display_name": "Python 3",
   "language": "python",
   "name": "python3"
  },
  "language_info": {
   "codemirror_mode": {
    "name": "ipython",
    "version": 3
   },
   "file_extension": ".py",
   "mimetype": "text/x-python",
   "name": "python",
   "nbconvert_exporter": "python",
   "pygments_lexer": "ipython3",
   "version": "3.11.6"
  },
  "orig_nbformat": 4
 },
 "nbformat": 4,
 "nbformat_minor": 2
}
